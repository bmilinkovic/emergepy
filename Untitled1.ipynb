{
 "cells": [
  {
   "cell_type": "code",
   "execution_count": 1,
   "id": "18e342dd-1417-47eb-ac5e-328cb39f6a90",
   "metadata": {},
   "outputs": [],
   "source": [
    "import numpy as np\n"
   ]
  },
  {
   "cell_type": "code",
   "execution_count": 2,
   "id": "a9362292-cbe0-4f93-8805-95d18d63610d",
   "metadata": {},
   "outputs": [],
   "source": [
    "from mvgc import utilsmvgc"
   ]
  },
  {
   "cell_type": "code",
   "execution_count": 20,
   "id": "4204b0ae-674d-4a6c-ae40-864278c3d17e",
   "metadata": {},
   "outputs": [
    {
     "data": {
      "text/plain": [
       "array([[ 1.26694361,  0.02324151,  1.26304904],\n",
       "       [ 0.33315714, -0.19533272,  1.17145339],\n",
       "       [ 0.63787965,  0.16222003, -0.28504143]])"
      ]
     },
     "execution_count": 20,
     "metadata": {},
     "output_type": "execute_result"
    }
   ],
   "source": [
    "A = np.random.randn(3,3)\n",
    "A\n"
   ]
  },
  {
   "cell_type": "code",
   "execution_count": 22,
   "id": "e52b1a04-76f5-4781-9dac-a28f4d1186b8",
   "metadata": {},
   "outputs": [
    {
     "data": {
      "text/plain": [
       "array([ 1.71793647, -0.04949798, -0.88186902])"
      ]
     },
     "execution_count": 22,
     "metadata": {},
     "output_type": "execute_result"
    }
   ],
   "source": [
    "eigenvalues = np.linalg.eigvals(A)\n",
    "eigenvalues"
   ]
  },
  {
   "cell_type": "code",
   "execution_count": 24,
   "id": "0c2a878d-7f7d-4bfd-aaf1-1532684a372f",
   "metadata": {},
   "outputs": [
    {
     "data": {
      "text/plain": [
       "1.7179364684294698"
      ]
     },
     "execution_count": 24,
     "metadata": {},
     "output_type": "execute_result"
    }
   ],
   "source": [
    "spectralnorm = np.max(np.abs(eigenvalues))\n",
    "spectralnorm"
   ]
  },
  {
   "cell_type": "code",
   "execution_count": 25,
   "id": "3a24c7ef-7beb-417d-b324-5503a5458cf0",
   "metadata": {},
   "outputs": [
    {
     "ename": "ValueError",
     "evalue": "too many values to unpack (expected 2)",
     "output_type": "error",
     "traceback": [
      "\u001b[0;31m---------------------------------------------------------------------------\u001b[0m",
      "\u001b[0;31mValueError\u001b[0m                                Traceback (most recent call last)",
      "Cell \u001b[0;32mIn[25], line 1\u001b[0m\n\u001b[0;32m----> 1\u001b[0m a \u001b[38;5;241m=\u001b[39m \u001b[43mutilsmvgc\u001b[49m\u001b[38;5;241;43m.\u001b[39;49m\u001b[43mspectralnorm\u001b[49m\u001b[43m(\u001b[49m\u001b[43mA\u001b[49m\u001b[43m)\u001b[49m\n",
      "File \u001b[0;32m~/Documents/gitdir/emergepy/mvgc/utilsmvgc.py:18\u001b[0m, in \u001b[0;36mspectralnorm\u001b[0;34m(A)\u001b[0m\n\u001b[1;32m      7\u001b[0m \u001b[38;5;28;01mdef\u001b[39;00m  \u001b[38;5;21mspectralnorm\u001b[39m(A):\n\u001b[1;32m      8\u001b[0m \u001b[38;5;250m    \u001b[39m\u001b[38;5;124;03m\"\"\"\u001b[39;00m\n\u001b[1;32m      9\u001b[0m \u001b[38;5;124;03m    Calculates the spectral norm of a Vector Auto-regressive coefficients\u001b[39;00m\n\u001b[1;32m     10\u001b[0m \u001b[38;5;124;03m    matrix A. The spectral norm is the maximum singular value of A.\u001b[39;00m\n\u001b[0;32m   (...)\u001b[0m\n\u001b[1;32m     16\u001b[0m \u001b[38;5;124;03m        spectral_norm (float): Spectral norm of A\u001b[39;00m\n\u001b[1;32m     17\u001b[0m \u001b[38;5;124;03m    \"\"\"\u001b[39;00m\n\u001b[0;32m---> 18\u001b[0m     eigenvalues, _ \u001b[38;5;241m=\u001b[39m np\u001b[38;5;241m.\u001b[39mlinalg\u001b[38;5;241m.\u001b[39meigvals(A)\n\u001b[1;32m     19\u001b[0m     \u001b[38;5;28;01mreturn\u001b[39;00m np\u001b[38;5;241m.\u001b[39mmax(np\u001b[38;5;241m.\u001b[39mabs(eigenvalues))\n",
      "\u001b[0;31mValueError\u001b[0m: too many values to unpack (expected 2)"
     ]
    }
   ],
   "source": [
    "a = utilsmvgc.spectralnorm(A)"
   ]
  },
  {
   "cell_type": "code",
   "execution_count": 4,
   "id": "2670055f-c352-4a38-852f-688d1444cee1",
   "metadata": {},
   "outputs": [
    {
     "ename": "TypeError",
     "evalue": "cannot unpack non-iterable NoneType object",
     "output_type": "error",
     "traceback": [
      "\u001b[0;31m---------------------------------------------------------------------------\u001b[0m",
      "\u001b[0;31mTypeError\u001b[0m                                 Traceback (most recent call last)",
      "Cell \u001b[0;32mIn[4], line 1\u001b[0m\n\u001b[0;32m----> 1\u001b[0m A, C, K \u001b[38;5;241m=\u001b[39m utilsmvgc\u001b[38;5;241m.\u001b[39miss_rand(\u001b[38;5;241m9\u001b[39m, \u001b[38;5;241m27\u001b[39m, \u001b[38;5;241m0.9\u001b[39m)\n",
      "\u001b[0;31mTypeError\u001b[0m: cannot unpack non-iterable NoneType object"
     ]
    }
   ],
   "source": [
    "A, C, K = utilsmvgc.iss_rand(9, 27, 0.9)"
   ]
  },
  {
   "cell_type": "code",
   "execution_count": 9,
   "id": "2a2183ef-67c0-4ccb-a4e4-b1fbc85489c7",
   "metadata": {},
   "outputs": [],
   "source": [
    "C = np.random.randn(9, 27)\n",
    "K = np.random.randn(27, 9)"
   ]
  },
  {
   "cell_type": "code",
   "execution_count": 10,
   "id": "1baf7a15-beae-41b5-90ed-ef302a562b1e",
   "metadata": {},
   "outputs": [],
   "source": [
    "M = K @ C"
   ]
  },
  {
   "cell_type": "code",
   "execution_count": 11,
   "id": "8db5c394-3d53-45af-a11b-d35d669b1a5b",
   "metadata": {},
   "outputs": [
    {
     "data": {
      "text/plain": [
       "(27, 27)"
      ]
     },
     "execution_count": 11,
     "metadata": {},
     "output_type": "execute_result"
    }
   ],
   "source": [
    "M.shape"
   ]
  },
  {
   "cell_type": "code",
   "execution_count": 13,
   "id": "d49905b8-604d-4b2b-9506-0914f36775fa",
   "metadata": {},
   "outputs": [
    {
     "ename": "NameError",
     "evalue": "name 'A' is not defined",
     "output_type": "error",
     "traceback": [
      "\u001b[0;31m---------------------------------------------------------------------------\u001b[0m",
      "\u001b[0;31mNameError\u001b[0m                                 Traceback (most recent call last)",
      "Cell \u001b[0;32mIn[13], line 1\u001b[0m\n\u001b[0;32m----> 1\u001b[0m gf \u001b[38;5;241m=\u001b[39m utilsmvgc\u001b[38;5;241m.\u001b[39mspectralnorm(\u001b[43mA\u001b[49m[\u001b[38;5;241m0\u001b[39m] \u001b[38;5;241m-\u001b[39m (\u001b[38;5;241m-\u001b[39m\u001b[38;5;241m1\u001b[39m) \u001b[38;5;241m*\u001b[39m M)\n\u001b[1;32m      2\u001b[0m gf1 \u001b[38;5;241m=\u001b[39m utilsmvgc\u001b[38;5;241m.\u001b[39mspectralnorm(A[\u001b[38;5;241m0\u001b[39m] \u001b[38;5;241m-\u001b[39m (\u001b[38;5;241m0\u001b[39m) \u001b[38;5;241m*\u001b[39m M)\n",
      "\u001b[0;31mNameError\u001b[0m: name 'A' is not defined"
     ]
    }
   ],
   "source": [
    "gf = utilsmvgc.spectralnorm(A[0] - (-1) * M)\n",
    "gf1 = utilsmvgc.spectralnorm(A[0] - (0) * M)"
   ]
  },
  {
   "cell_type": "code",
   "execution_count": 25,
   "id": "7d4d8320-8f51-426d-951a-ada5ee1c75fe",
   "metadata": {},
   "outputs": [
    {
     "ename": "ValueError",
     "evalue": "The truth value of an array with more than one element is ambiguous. Use a.any() or a.all()",
     "output_type": "error",
     "traceback": [
      "\u001b[0;31m---------------------------------------------------------------------------\u001b[0m",
      "\u001b[0;31mValueError\u001b[0m                                Traceback (most recent call last)",
      "Cell \u001b[0;32mIn[25], line 1\u001b[0m\n\u001b[0;32m----> 1\u001b[0m \u001b[38;5;28;01massert\u001b[39;00m (gf[\u001b[38;5;241m0\u001b[39m] \u001b[38;5;241m>\u001b[39m \u001b[38;5;241m1\u001b[39m \u001b[38;5;129;01mand\u001b[39;00m gf1[\u001b[38;5;241m0\u001b[39m] \u001b[38;5;241m<\u001b[39m \u001b[38;5;241m1\u001b[39m)\n",
      "\u001b[0;31mValueError\u001b[0m: The truth value of an array with more than one element is ambiguous. Use a.any() or a.all()"
     ]
    }
   ],
   "source": [
    "assert (gf[0] > 1 and gf1[0] < 1)"
   ]
  },
  {
   "cell_type": "code",
   "execution_count": 20,
   "id": "6ccea451-7096-4ef7-a669-f0841eebbf98",
   "metadata": {},
   "outputs": [
    {
     "name": "stdout",
     "output_type": "stream",
     "text": [
      "Object `.any()` not found.\n"
     ]
    }
   ],
   "source": [
    "?.any()\n"
   ]
  },
  {
   "cell_type": "code",
   "execution_count": null,
   "id": "6e03dc11-b052-40ba-a77f-282fed4c732b",
   "metadata": {},
   "outputs": [],
   "source": []
  }
 ],
 "metadata": {
  "kernelspec": {
   "display_name": "Python 3 (ipykernel)",
   "language": "python",
   "name": "python3"
  },
  "language_info": {
   "codemirror_mode": {
    "name": "ipython",
    "version": 3
   },
   "file_extension": ".py",
   "mimetype": "text/x-python",
   "name": "python",
   "nbconvert_exporter": "python",
   "pygments_lexer": "ipython3",
   "version": "3.9.6"
  }
 },
 "nbformat": 4,
 "nbformat_minor": 5
}
