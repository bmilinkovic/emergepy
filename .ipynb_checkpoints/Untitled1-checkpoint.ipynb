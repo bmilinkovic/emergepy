{
 "cells": [
  {
   "cell_type": "code",
   "execution_count": 1,
   "id": "18e342dd-1417-47eb-ac5e-328cb39f6a90",
   "metadata": {},
   "outputs": [],
   "source": [
    "import numpy as np"
   ]
  },
  {
   "cell_type": "code",
   "execution_count": 2,
   "id": "a9362292-cbe0-4f93-8805-95d18d63610d",
   "metadata": {},
   "outputs": [],
   "source": [
    "from mvgc import utilsmvgc"
   ]
  },
  {
   "cell_type": "code",
   "execution_count": null,
   "id": "433f5357-cbe2-4175-a1fc-769625be870c",
   "metadata": {},
   "outputs": [],
   "source": []
  },
  {
   "cell_type": "code",
   "execution_count": 14,
   "id": "2670055f-c352-4a38-852f-688d1444cee1",
   "metadata": {},
   "outputs": [
    {
     "ename": "UnboundLocalError",
     "evalue": "local variable 'A' referenced before assignment",
     "output_type": "error",
     "traceback": [
      "\u001b[0;31m---------------------------------------------------------------------------\u001b[0m",
      "\u001b[0;31mUnboundLocalError\u001b[0m                         Traceback (most recent call last)",
      "Cell \u001b[0;32mIn[14], line 1\u001b[0m\n\u001b[0;32m----> 1\u001b[0m A, C, K, _ \u001b[38;5;241m=\u001b[39m \u001b[43mutilsmvgc\u001b[49m\u001b[38;5;241;43m.\u001b[39;49m\u001b[43miss_rand\u001b[49m\u001b[43m(\u001b[49m\u001b[38;5;241;43m9\u001b[39;49m\u001b[43m,\u001b[49m\u001b[43m \u001b[49m\u001b[38;5;241;43m27\u001b[39;49m\u001b[43m,\u001b[49m\u001b[43m \u001b[49m\u001b[38;5;241;43m0.9\u001b[39;49m\u001b[43m,\u001b[49m\u001b[43m \u001b[49m\u001b[43mdis\u001b[49m\u001b[38;5;241;43m=\u001b[39;49m\u001b[38;5;28;43;01mFalse\u001b[39;49;00m\u001b[43m)\u001b[49m\n",
      "File \u001b[0;32m~/Documents/gitdir/emergepy/mvgc/utilsmvgc.py:87\u001b[0m, in \u001b[0;36miss_rand\u001b[0;34m(n, m, rhoa, dis)\u001b[0m\n\u001b[1;32m     84\u001b[0m     plt\u001b[38;5;241m.\u001b[39mtitle(\u001b[38;5;124m'\u001b[39m\u001b[38;5;124mrho(A) = \u001b[39m\u001b[38;5;132;01m%g\u001b[39;00m\u001b[38;5;124m, rho(B) = \u001b[39m\u001b[38;5;132;01m%g\u001b[39;00m\u001b[38;5;124m'\u001b[39m \u001b[38;5;241m%\u001b[39m (rhoa, specnorm(A \u001b[38;5;241m-\u001b[39m r \u001b[38;5;241m*\u001b[39m M)))\n\u001b[1;32m     85\u001b[0m     plt\u001b[38;5;241m.\u001b[39mshow()\n\u001b[0;32m---> 87\u001b[0m \u001b[38;5;28;01mreturn\u001b[39;00m \u001b[43mA\u001b[49m, C, K, rhob\n",
      "\u001b[0;31mUnboundLocalError\u001b[0m: local variable 'A' referenced before assignment"
     ]
    }
   ],
   "source": [
    "A, C, K, _ = utilsmvgc.iss_rand(9, 27, 0.9, dis=False)"
   ]
  },
  {
   "cell_type": "code",
   "execution_count": 9,
   "id": "2a2183ef-67c0-4ccb-a4e4-b1fbc85489c7",
   "metadata": {},
   "outputs": [],
   "source": [
    "C = np.random.randn(9, 27)\n",
    "K = np.random.randn(27, 9)"
   ]
  },
  {
   "cell_type": "code",
   "execution_count": 10,
   "id": "1baf7a15-beae-41b5-90ed-ef302a562b1e",
   "metadata": {},
   "outputs": [],
   "source": [
    "M = K @ C"
   ]
  },
  {
   "cell_type": "code",
   "execution_count": 11,
   "id": "8db5c394-3d53-45af-a11b-d35d669b1a5b",
   "metadata": {},
   "outputs": [
    {
     "data": {
      "text/plain": [
       "(27, 27)"
      ]
     },
     "execution_count": 11,
     "metadata": {},
     "output_type": "execute_result"
    }
   ],
   "source": [
    "M.shape"
   ]
  },
  {
   "cell_type": "code",
   "execution_count": 13,
   "id": "d49905b8-604d-4b2b-9506-0914f36775fa",
   "metadata": {},
   "outputs": [
    {
     "ename": "NameError",
     "evalue": "name 'A' is not defined",
     "output_type": "error",
     "traceback": [
      "\u001b[0;31m---------------------------------------------------------------------------\u001b[0m",
      "\u001b[0;31mNameError\u001b[0m                                 Traceback (most recent call last)",
      "Cell \u001b[0;32mIn[13], line 1\u001b[0m\n\u001b[0;32m----> 1\u001b[0m gf \u001b[38;5;241m=\u001b[39m utilsmvgc\u001b[38;5;241m.\u001b[39mspectralnorm(\u001b[43mA\u001b[49m[\u001b[38;5;241m0\u001b[39m] \u001b[38;5;241m-\u001b[39m (\u001b[38;5;241m-\u001b[39m\u001b[38;5;241m1\u001b[39m) \u001b[38;5;241m*\u001b[39m M)\n\u001b[1;32m      2\u001b[0m gf1 \u001b[38;5;241m=\u001b[39m utilsmvgc\u001b[38;5;241m.\u001b[39mspectralnorm(A[\u001b[38;5;241m0\u001b[39m] \u001b[38;5;241m-\u001b[39m (\u001b[38;5;241m0\u001b[39m) \u001b[38;5;241m*\u001b[39m M)\n",
      "\u001b[0;31mNameError\u001b[0m: name 'A' is not defined"
     ]
    }
   ],
   "source": [
    "gf = utilsmvgc.spectralnorm(A[0] - (-1) * M)\n",
    "gf1 = utilsmvgc.spectralnorm(A[0] - (0) * M)"
   ]
  },
  {
   "cell_type": "code",
   "execution_count": 25,
   "id": "7d4d8320-8f51-426d-951a-ada5ee1c75fe",
   "metadata": {},
   "outputs": [
    {
     "ename": "ValueError",
     "evalue": "The truth value of an array with more than one element is ambiguous. Use a.any() or a.all()",
     "output_type": "error",
     "traceback": [
      "\u001b[0;31m---------------------------------------------------------------------------\u001b[0m",
      "\u001b[0;31mValueError\u001b[0m                                Traceback (most recent call last)",
      "Cell \u001b[0;32mIn[25], line 1\u001b[0m\n\u001b[0;32m----> 1\u001b[0m \u001b[38;5;28;01massert\u001b[39;00m (gf[\u001b[38;5;241m0\u001b[39m] \u001b[38;5;241m>\u001b[39m \u001b[38;5;241m1\u001b[39m \u001b[38;5;129;01mand\u001b[39;00m gf1[\u001b[38;5;241m0\u001b[39m] \u001b[38;5;241m<\u001b[39m \u001b[38;5;241m1\u001b[39m)\n",
      "\u001b[0;31mValueError\u001b[0m: The truth value of an array with more than one element is ambiguous. Use a.any() or a.all()"
     ]
    }
   ],
   "source": [
    "assert (gf[0] > 1 and gf1[0] < 1)"
   ]
  },
  {
   "cell_type": "code",
   "execution_count": 20,
   "id": "6ccea451-7096-4ef7-a669-f0841eebbf98",
   "metadata": {},
   "outputs": [
    {
     "name": "stdout",
     "output_type": "stream",
     "text": [
      "Object `.any()` not found.\n"
     ]
    }
   ],
   "source": [
    "?.any()\n"
   ]
  },
  {
   "cell_type": "code",
   "execution_count": null,
   "id": "6e03dc11-b052-40ba-a77f-282fed4c732b",
   "metadata": {},
   "outputs": [],
   "source": []
  }
 ],
 "metadata": {
  "kernelspec": {
   "display_name": "Python 3 (ipykernel)",
   "language": "python",
   "name": "python3"
  },
  "language_info": {
   "codemirror_mode": {
    "name": "ipython",
    "version": 3
   },
   "file_extension": ".py",
   "mimetype": "text/x-python",
   "name": "python",
   "nbconvert_exporter": "python",
   "pygments_lexer": "ipython3",
   "version": "3.9.6"
  }
 },
 "nbformat": 4,
 "nbformat_minor": 5
}
