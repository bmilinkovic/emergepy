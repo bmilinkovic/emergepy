{
 "cells": [
  {
   "cell_type": "code",
   "execution_count": null,
   "id": "c349c479-d857-4bce-9be2-094b7442f6c4",
   "metadata": {},
   "outputs": [],
   "source": [
    "import numpy as np"
   ]
  },
  {
   "cell_type": "code",
   "execution_count": 14,
   "id": "a2314238-227d-479a-b6a0-a438be5bf0a5",
   "metadata": {},
   "outputs": [],
   "source": [
    "import scipy.io as sio\n",
    "import os\n",
    "import seaborn as sns\n"
   ]
  },
  {
   "cell_type": "code",
   "execution_count": 16,
   "id": "b3bd2518-d09d-4ebe-94d6-02f3ef24f4ed",
   "metadata": {},
   "outputs": [],
   "source": [
    "### Here we will load in the data"
   ]
  },
  {
   "cell_type": "code",
   "execution_count": 17,
   "id": "2c43c26e-1e13-4182-8678-7e9337a61131",
   "metadata": {},
   "outputs": [],
   "source": [
    "optimisation_dir = '/Users/borjanmilinkovic/Documents/gitdir/ssdi/networks/models/'\n",
    "\n",
    "# plotting preoptimisation and optimisation histories\n",
    "opt = sio.loadmat(os.path.join(optimisation_dir, 'opthistp_mdim_2.mat'))\n",
    "opthist = opt['ohistp']\n",
    "gopto = sio.loadmat(os.path.join(optimisation_dir, 'optdistp_mdim_2.mat'))\n",
    "gopto = gopto['goptp']"
   ]
  },
  {
   "cell_type": "code",
   "execution_count": 18,
   "id": "a3a03440-1508-47ad-a67c-aaa8b20b1d94",
   "metadata": {},
   "outputs": [],
   "source": [
    "### Here we will make the single columns that correspond to all the optimal DD values for each optimisation for each n-macro"
   ]
  },
  {
   "cell_type": "code",
   "execution_count": 19,
   "id": "779b40f9-3b69-4654-86f6-981276cb7f39",
   "metadata": {},
   "outputs": [],
   "source": [
    "opt_history = [opthist[i][0][-1,0] for i in range(len(opthist))]"
   ]
  },
  {
   "cell_type": "code",
   "execution_count": 20,
   "id": "885db24e-2c4d-4f6a-a2fa-1df18de1c33b",
   "metadata": {},
   "outputs": [
    {
     "data": {
      "text/plain": [
       "[1.5444659440255748e-12,\n",
       " 1.5735190928012344e-12,\n",
       " 5.867015206995063e-12,\n",
       " 7.532099943752257e-12,\n",
       " 7.735527496333106e-12,\n",
       " 8.529142669910783e-12,\n",
       " 8.755697555873354e-12,\n",
       " 9.397378708531079e-12,\n",
       " 9.660869326744148e-12,\n",
       " 1.148935113715055e-11,\n",
       " 1.221624884584216e-11,\n",
       " 1.3338476156921075e-11,\n",
       " 1.6375137357194092e-11,\n",
       " 1.7716564326697437e-11,\n",
       " 1.830956219972535e-11,\n",
       " 1.8896065268059203e-11,\n",
       " 2.1119328508234503e-11,\n",
       " 2.481004290899591e-11,\n",
       " 2.7967496374348144e-11,\n",
       " 2.9429944592429536e-11,\n",
       " 2.9702032500189546e-11,\n",
       " 3.1723193516519643e-11,\n",
       " 3.4702768436645215e-11,\n",
       " 3.525566644180245e-11,\n",
       " 3.659057085103612e-11,\n",
       " 3.861191227860772e-11,\n",
       " 4.378428869467044e-11,\n",
       " 4.398732073029876e-11,\n",
       " 4.4342099436711635e-11,\n",
       " 4.479801946066786e-11,\n",
       " 4.514517232268034e-11,\n",
       " 4.858805024987589e-11,\n",
       " 4.923661478528629e-11,\n",
       " 4.947428577928292e-11,\n",
       " 4.98166438656078e-11,\n",
       " 5.001639380441958e-11,\n",
       " 5.057898544436057e-11,\n",
       " 5.242605655153554e-11,\n",
       " 5.2514208259690776e-11,\n",
       " 5.4027178564286515e-11,\n",
       " 5.733395702645083e-11,\n",
       " 5.841629263647619e-11,\n",
       " 6.002161961893293e-11,\n",
       " 6.029190341427793e-11,\n",
       " 6.032398885968959e-11,\n",
       " 6.11325781663119e-11,\n",
       " 6.405150715371732e-11,\n",
       " 6.564947196974202e-11,\n",
       " 6.60852483846952e-11,\n",
       " 6.719082928929865e-11,\n",
       " 6.73599856448881e-11,\n",
       " 6.822107462278737e-11,\n",
       " 7.041604799251644e-11,\n",
       " 7.259269574344529e-11,\n",
       " 7.27862908833643e-11,\n",
       " 7.462820639236867e-11,\n",
       " 7.505705779120575e-11,\n",
       " 7.591761247427442e-11,\n",
       " 7.78886677377244e-11,\n",
       " 7.937579066252809e-11,\n",
       " 8.008934487824249e-11,\n",
       " 8.03134989069143e-11,\n",
       " 8.190765427018576e-11,\n",
       " 8.233259907175494e-11,\n",
       " 8.291960174044988e-11,\n",
       " 8.306104415378712e-11,\n",
       " 8.316018706988615e-11,\n",
       " 8.332122491960803e-11,\n",
       " 8.416732588667486e-11,\n",
       " 8.418108571328631e-11,\n",
       " 8.485830788051985e-11,\n",
       " 8.53760881436294e-11,\n",
       " 8.681942664789943e-11,\n",
       " 8.709442195220518e-11,\n",
       " 8.730794559541621e-11,\n",
       " 8.73352778985037e-11,\n",
       " 8.927632244581929e-11,\n",
       " 8.991152961046467e-11,\n",
       " 9.00888114108156e-11,\n",
       " 9.176610166194976e-11,\n",
       " 9.240162801571472e-11,\n",
       " 9.300669956413543e-11,\n",
       " 9.604921719086335e-11,\n",
       " 9.779331511250433e-11,\n",
       " 0.03623769604002369,\n",
       " 0.0362376960400237,\n",
       " 0.0362376960400237,\n",
       " 0.0362376960400237,\n",
       " 0.036237696040023706,\n",
       " 0.036237696040023706,\n",
       " 0.036237696040023706,\n",
       " 0.036237696040023706,\n",
       " 0.03623769604002372,\n",
       " 0.03623769604002372,\n",
       " 0.03623769604002373,\n",
       " 0.036237696040023734,\n",
       " 0.036237696040023734,\n",
       " 0.036237696040023734,\n",
       " 0.036237696040023734,\n",
       " 0.08288477317024925]"
      ]
     },
     "execution_count": 20,
     "metadata": {},
     "output_type": "execute_result"
    }
   ],
   "source": [
    "opt_history"
   ]
  },
  {
   "cell_type": "code",
   "execution_count": 21,
   "id": "b937bf72-262b-4fb4-89c9-9f6a6968e65d",
   "metadata": {},
   "outputs": [],
   "source": [
    "import matplotlib.pyplot as plt"
   ]
  },
  {
   "cell_type": "code",
   "execution_count": null,
   "id": "772e16d8-a6e0-4726-8e45-8cf34e94b1e4",
   "metadata": {},
   "outputs": [],
   "source": []
  }
 ],
 "metadata": {
  "kernelspec": {
   "display_name": "Python 3 (ipykernel)",
   "language": "python",
   "name": "python3"
  },
  "language_info": {
   "codemirror_mode": {
    "name": "ipython",
    "version": 3
   },
   "file_extension": ".py",
   "mimetype": "text/x-python",
   "name": "python",
   "nbconvert_exporter": "python",
   "pygments_lexer": "ipython3",
   "version": "3.9.6"
  }
 },
 "nbformat": 4,
 "nbformat_minor": 5
}
